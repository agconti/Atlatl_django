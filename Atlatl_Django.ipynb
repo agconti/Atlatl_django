{
 "metadata": {
  "name": ""
 },
 "nbformat": 3,
 "nbformat_minor": 0,
 "worksheets": [
  {
   "cells": [
    {
     "cell_type": "code",
     "collapsed": false,
     "input": [
      "import django"
     ],
     "language": "python",
     "metadata": {},
     "outputs": [],
     "prompt_number": 1
    },
    {
     "cell_type": "code",
     "collapsed": false,
     "input": [
      "django.VERSION"
     ],
     "language": "python",
     "metadata": {},
     "outputs": [
      {
       "metadata": {},
       "output_type": "pyout",
       "prompt_number": 2,
       "text": [
        "(1, 5, 1, 'final', 0)"
       ]
      }
     ],
     "prompt_number": 2
    },
    {
     "cell_type": "code",
     "collapsed": false,
     "input": [
      "#!django-admin.py startproject mysite"
     ],
     "language": "python",
     "metadata": {},
     "outputs": [],
     "prompt_number": 3
    },
    {
     "cell_type": "code",
     "collapsed": false,
     "input": [
      "ll"
     ],
     "language": "python",
     "metadata": {},
     "outputs": [
      {
       "output_type": "stream",
       "stream": "stdout",
       "text": [
        "total 36\r\n",
        "-rw-rw-r-- 1 agconti 26601 Jul 19 16:11 Atlatl_Django.ipynb\r\n",
        "-rw-rw-r-- 1 agconti     0 Jul 19 11:44 libpeerconnection.log\r\n",
        "drwxrwxr-x 4 agconti  4096 Jul 19 16:11 \u001b[0m\u001b[01;34mmysite\u001b[0m/\r\n",
        "-rw-rw-r-- 1 agconti    52 Jul 18 17:46 README.md\r\n"
       ]
      }
     ],
     "prompt_number": 4
    },
    {
     "cell_type": "code",
     "collapsed": false,
     "input": [
      "cd mysite/"
     ],
     "language": "python",
     "metadata": {},
     "outputs": [
      {
       "output_type": "stream",
       "stream": "stdout",
       "text": [
        "/home/agconti/my_dev/github/Atlatl_django/mysite\n"
       ]
      }
     ],
     "prompt_number": 5
    },
    {
     "cell_type": "code",
     "collapsed": false,
     "input": [
      "class dev_server(object):\n",
      "    '''\n",
      "    for easy server management\n",
      "    '''\n",
      "    def __init__(self):\n",
      "        self.server = 'no_server'\n",
      "    \n",
      "    def start(self):\n",
      "        '''\n",
      "        starts the server\n",
      "        '''\n",
      "        import os\n",
      "        import subprocess\n",
      "        \n",
      "        #get cwd\n",
      "        cdir = os.getcwd()\n",
      "        # change dir to make sure manage.py is avaliable\n",
      "        os.chdir('/home/agconti/my_dev/github/Atlatl_django/mysite')\n",
      "        # start dev server as a subprocess so we can still develop interactively\n",
      "        self.server = subprocess.Popen([\"python\", \"manage.py\", \"runserver\"])\n",
      "        #change dir back\n",
      "        os.chdir(cdir)\n",
      "        self.server = 'running'\n",
      "        \n",
      "        print \"Im running!\\nGo here: http://127.0.0.1:8000/\\nCurrent Working Dir: %s\"%(cdir)\n",
      "        \n",
      "    \n",
      "    def link(self):\n",
      "        '''\n",
      "        outputs the server's link for convience\n",
      "        '''\n",
      "        if self.server == 'running': \n",
      "            print \"Im running!\\nGo here: http://127.0.0.1:8000\"\n",
      "        else:\n",
      "            print \"Sorry, I'm not running.\"\n",
      "    \n",
      "    def end(self):\n",
      "        '''\n",
      "        ends the sever\n",
      "        '''\n",
      "        if self.server == 'no_server':\n",
      "            print \"there is no sever!\"\n",
      "        else:\n",
      "            self.server.terminate()\n",
      "            self.server = 'no_server'\n",
      "            print \"I've Stopped.\"     "
     ],
     "language": "python",
     "metadata": {},
     "outputs": [],
     "prompt_number": 6
    },
    {
     "cell_type": "code",
     "collapsed": false,
     "input": [
      "my_server = dev_server()"
     ],
     "language": "python",
     "metadata": {},
     "outputs": [],
     "prompt_number": 7
    },
    {
     "cell_type": "code",
     "collapsed": false,
     "input": [
      "my_server.start()"
     ],
     "language": "python",
     "metadata": {},
     "outputs": [
      {
       "output_type": "stream",
       "stream": "stdout",
       "text": [
        "Im running!\n",
        "Go here: http://127.0.0.1:8000/\n",
        "Current Working Dir: /home/agconti/my_dev/github/Atlatl_django/mysite\n"
       ]
      }
     ],
     "prompt_number": 9
    },
    {
     "cell_type": "code",
     "collapsed": false,
     "input": [
      "#!python manage.py startapp houses"
     ],
     "language": "python",
     "metadata": {},
     "outputs": [],
     "prompt_number": 10
    },
    {
     "cell_type": "code",
     "collapsed": false,
     "input": [
      "ls -l"
     ],
     "language": "python",
     "metadata": {},
     "outputs": [
      {
       "output_type": "stream",
       "stream": "stdout",
       "text": [
        "total 44\r\n",
        "drwxrwxr-x 3 agconti agconti  4096 Jul 19 13:45 \u001b[0m\u001b[01;34mhouses\u001b[0m/\r\n",
        "-rw-r--r-- 1 agconti agconti   249 Jul 19 12:07 manage.py\r\n",
        "drwxrwxr-x 2 agconti agconti  4096 Jul 19 16:10 \u001b[01;34mmysite\u001b[0m/\r\n",
        "-rw-r--r-- 1 agconti agconti 26624 Jul 19 16:12 sqlite3.db\r\n"
       ]
      }
     ],
     "prompt_number": 11
    },
    {
     "cell_type": "code",
     "collapsed": false,
     "input": [
      "cd houses/"
     ],
     "language": "python",
     "metadata": {},
     "outputs": [
      {
       "output_type": "stream",
       "stream": "stdout",
       "text": [
        "/home/agconti/my_dev/github/Atlatl_django/mysite/houses\n"
       ]
      }
     ],
     "prompt_number": 12
    },
    {
     "cell_type": "code",
     "collapsed": false,
     "input": [
      "%%writefile models.py\n",
      "from django.db import models\n",
      "\n",
      "# Create your models here.\n",
      "\n",
      "class Owner(models.Model):\n",
      "    name = models.TextField(max_length=200)\n",
      "\n",
      "class House(models.Model):\n",
      "    address = models.TextField(max_length=200)\n",
      "    owner = models.ForeignKey(Owner)"
     ],
     "language": "python",
     "metadata": {},
     "outputs": [
      {
       "output_type": "stream",
       "stream": "stdout",
       "text": [
        "Overwriting models.py\n"
       ]
      }
     ],
     "prompt_number": 13
    },
    {
     "cell_type": "code",
     "collapsed": false,
     "input": [
      "cd .."
     ],
     "language": "python",
     "metadata": {},
     "outputs": [
      {
       "output_type": "stream",
       "stream": "stdout",
       "text": [
        "/home/agconti/my_dev/github/Atlatl_django/mysite\n"
       ]
      }
     ],
     "prompt_number": 14
    },
    {
     "cell_type": "code",
     "collapsed": false,
     "input": [
      "cd mysite/"
     ],
     "language": "python",
     "metadata": {},
     "outputs": [
      {
       "output_type": "stream",
       "stream": "stdout",
       "text": [
        "/home/agconti/my_dev/github/Atlatl_django/mysite/mysite\n"
       ]
      }
     ],
     "prompt_number": 15
    },
    {
     "cell_type": "code",
     "collapsed": false,
     "input": [
      "%%writefile settings.py\n",
      "\n",
      "# Django settings for mysite project.\n",
      "\n",
      "DEBUG = True\n",
      "TEMPLATE_DEBUG = DEBUG\n",
      "\n",
      "ADMINS = (\n",
      "    # ('Your Name', 'your_email@example.com'),\n",
      ")\n",
      "\n",
      "MANAGERS = ADMINS\n",
      "\n",
      "DATABASES = {\n",
      "    'default': {\n",
      "        'ENGINE': 'django.db.backends.sqlite3', # Add 'postgresql_psycopg2', 'mysql', 'sqlite3' or 'oracle'.\n",
      "        'NAME': '/home/agconti/my_dev/github/Atlatl_django/mysite/sqlite3.db', # Or path to database file if using sqlite3.\n",
      "        # The following settings are not used with sqlite3:\n",
      "        'USER': '',\n",
      "        'PASSWORD': '',\n",
      "        'HOST': '',                      # Empty for localhost through domain sockets or '127.0.0.1' for localhost through TCP.\n",
      "        'PORT': '',                      # Set to empty string for default.\n",
      "    }\n",
      "}\n",
      "\n",
      "# Hosts/domain names that are valid for this site; required if DEBUG is False\n",
      "# See https://docs.djangoproject.com/en/1.5/ref/settings/#allowed-hosts\n",
      "ALLOWED_HOSTS = []\n",
      "\n",
      "# Local time zone for this installation. Choices can be found here:\n",
      "# http://en.wikipedia.org/wiki/List_of_tz_zones_by_name\n",
      "# although not all choices may be available on all operating systems.\n",
      "# In a Windows environment this must be set to your system time zone.\n",
      "TIME_ZONE = 'America/Chicago'\n",
      "\n",
      "# Language code for this installation. All choices can be found here:\n",
      "# http://www.i18nguy.com/unicode/language-identifiers.html\n",
      "LANGUAGE_CODE = 'en-us'\n",
      "\n",
      "SITE_ID = 1\n",
      "\n",
      "# If you set this to False, Django will make some optimizations so as not\n",
      "# to load the internationalization machinery.\n",
      "USE_I18N = True\n",
      "\n",
      "# If you set this to False, Django will not format dates, numbers and\n",
      "# calendars according to the current locale.\n",
      "USE_L10N = True\n",
      "\n",
      "# If you set this to False, Django will not use timezone-aware datetimes.\n",
      "USE_TZ = True\n",
      "\n",
      "# Absolute filesystem path to the directory that will hold user-uploaded files.\n",
      "# Example: \"/var/www/example.com/media/\"\n",
      "MEDIA_ROOT = ''\n",
      "\n",
      "# URL that handles the media served from MEDIA_ROOT. Make sure to use a\n",
      "# trailing slash.\n",
      "# Examples: \"http://example.com/media/\", \"http://media.example.com/\"\n",
      "MEDIA_URL = ''\n",
      "\n",
      "# Absolute path to the directory static files should be collected to.\n",
      "# Don't put anything in this directory yourself; store your static files\n",
      "# in apps' \"static/\" subdirectories and in STATICFILES_DIRS.\n",
      "# Example: \"/var/www/example.com/static/\"\n",
      "STATIC_ROOT = ''\n",
      "\n",
      "# URL prefix for static files.\n",
      "# Example: \"http://example.com/static/\", \"http://static.example.com/\"\n",
      "STATIC_URL = '/static/'\n",
      "\n",
      "# Additional locations of static files\n",
      "STATICFILES_DIRS = (\n",
      "    # Put strings here, like \"/home/html/static\" or \"C:/www/django/static\".\n",
      "    # Always use forward slashes, even on Windows.\n",
      "    # Don't forget to use absolute paths, not relative paths.\n",
      ")\n",
      "\n",
      "# List of finder classes that know how to find static files in\n",
      "# various locations.\n",
      "STATICFILES_FINDERS = (\n",
      "    'django.contrib.staticfiles.finders.FileSystemFinder',\n",
      "    'django.contrib.staticfiles.finders.AppDirectoriesFinder',\n",
      "#    'django.contrib.staticfiles.finders.DefaultStorageFinder',\n",
      ")\n",
      "\n",
      "# Make this unique, and don't share it with anybody.\n",
      "SECRET_KEY = '(p(3gth07w54-0@+2^cx&@b5tdmd1p5v_&)(b0^8q-uop!^7(-'\n",
      "\n",
      "# List of callables that know how to import templates from various sources.\n",
      "TEMPLATE_LOADERS = (\n",
      "    'django.template.loaders.filesystem.Loader',\n",
      "    'django.template.loaders.app_directories.Loader',\n",
      "#     'django.template.loaders.eggs.Loader',\n",
      ")\n",
      "\n",
      "MIDDLEWARE_CLASSES = (\n",
      "    'django.middleware.common.CommonMiddleware',\n",
      "    'django.contrib.sessions.middleware.SessionMiddleware',\n",
      "    'django.middleware.csrf.CsrfViewMiddleware',\n",
      "    'django.contrib.auth.middleware.AuthenticationMiddleware',\n",
      "    'django.contrib.messages.middleware.MessageMiddleware',\n",
      "    # Uncomment the next line for simple clickjacking protection:\n",
      "    # 'django.middleware.clickjacking.XFrameOptionsMiddleware',\n",
      ")\n",
      "\n",
      "ROOT_URLCONF = 'mysite.urls'\n",
      "\n",
      "# Python dotted path to the WSGI application used by Django's runserver.\n",
      "WSGI_APPLICATION = 'mysite.wsgi.application'\n",
      "\n",
      "TEMPLATE_DIRS = (\n",
      "    # Put strings here, like \"/home/html/django_templates\" or \"C:/www/django/templates\".\n",
      "    # Always use forward slashes, even on Windows.\n",
      "    # Don't forget to use absolute paths, not relative paths.\n",
      ")\n",
      "\n",
      "INSTALLED_APPS = (\n",
      "    'django.contrib.auth',\n",
      "    'django.contrib.contenttypes',\n",
      "    'django.contrib.sessions',\n",
      "    #'django.contrib.sites',\n",
      "    'django.contrib.messages',\n",
      "    'django.contrib.staticfiles',\n",
      "    # Uncomment the next line to enable the admin:\n",
      "     'django.contrib.admin',\n",
      "    # Uncomment the next line to enable admin documentation:\n",
      "    # 'django.contrib.admindocs',\n",
      "     'houses' # register my new app\n",
      ")\n",
      "\n",
      "# A sample logging configuration. The only tangible logging\n",
      "# performed by this configuration is to send an email to\n",
      "# the site admins on every HTTP 500 error when DEBUG=False.\n",
      "# See http://docs.djangoproject.com/en/dev/topics/logging for\n",
      "# more details on how to customize your logging configuration.\n",
      "LOGGING = {\n",
      "    'version': 1,\n",
      "    'disable_existing_loggers': False,\n",
      "    'filters': {\n",
      "        'require_debug_false': {\n",
      "            '()': 'django.utils.log.RequireDebugFalse'\n",
      "        }\n",
      "    },\n",
      "    'handlers': {\n",
      "        'mail_admins': {\n",
      "            'level': 'ERROR',\n",
      "            'filters': ['require_debug_false'],\n",
      "            'class': 'django.utils.log.AdminEmailHandler'\n",
      "        }\n",
      "    },\n",
      "    'loggers': {\n",
      "        'django.request': {\n",
      "            'handlers': ['mail_admins'],\n",
      "            'level': 'ERROR',\n",
      "            'propagate': True,\n",
      "        },\n",
      "    }\n",
      "}\n"
     ],
     "language": "python",
     "metadata": {},
     "outputs": [
      {
       "output_type": "stream",
       "stream": "stdout",
       "text": [
        "Overwriting settings.py\n"
       ]
      }
     ],
     "prompt_number": 16
    },
    {
     "cell_type": "code",
     "collapsed": false,
     "input": [
      "%%writefile urls.py\n",
      "from django.conf.urls import patterns, include, url\n",
      "\n",
      "# Uncomment the next two lines to enable the admin:\n",
      "from django.contrib import admin\n",
      "admin.autodiscover()\n",
      "\n",
      "urlpatterns = patterns('',\n",
      "    # Examples:\n",
      "    # url(r'^$', 'mysite.views.home', name='home'),\n",
      "    # url(r'^mysite/', include('mysite.foo.urls')),\n",
      "\n",
      "    # Uncomment the admin/doc line below to enable admin documentation:\n",
      "    # url(r'^admin/doc/', include('django.contrib.admindocs.urls')),\n",
      "\n",
      "    # Uncomment the next line to enable the admin:\n",
      "     url(r'^admin/', include(admin.site.urls)),\n",
      ")\n"
     ],
     "language": "python",
     "metadata": {},
     "outputs": [
      {
       "output_type": "stream",
       "stream": "stdout",
       "text": [
        "Overwriting urls.py\n"
       ]
      }
     ],
     "prompt_number": 17
    },
    {
     "cell_type": "code",
     "collapsed": false,
     "input": [
      "ll"
     ],
     "language": "python",
     "metadata": {},
     "outputs": [
      {
       "output_type": "stream",
       "stream": "stdout",
       "text": [
        "total 32\r\n",
        "-rw-r--r-- 1 agconti    0 Jul 19 12:07 __init__.py\r\n",
        "-rw-r--r-- 1 agconti  154 Jul 19 12:13 __init__.pyc\r\n",
        "-rw-r--r-- 1 agconti 5431 Jul 19 16:12 settings.py\r\n",
        "-rw-r--r-- 1 agconti 2954 Jul 19 16:12 settings.pyc\r\n",
        "-rw-r--r-- 1 agconti  550 Jul 19 16:12 urls.py\r\n",
        "-rw-r--r-- 1 agconti  434 Jul 19 16:03 urls.pyc\r\n",
        "-rw-r--r-- 1 agconti 1419 Jul 19 12:07 wsgi.py\r\n",
        "-rw-r--r-- 1 agconti 1048 Jul 19 12:13 wsgi.pyc\r\n"
       ]
      }
     ],
     "prompt_number": 18
    },
    {
     "cell_type": "markdown",
     "metadata": {},
     "source": [
      "###Check out the admin console\n",
      "http://127.0.0.1:8000/admin"
     ]
    },
    {
     "cell_type": "code",
     "collapsed": false,
     "input": [
      "cd /home/agconti/my_dev/github/Atlatl_django/mysite"
     ],
     "language": "python",
     "metadata": {},
     "outputs": [
      {
       "output_type": "stream",
       "stream": "stdout",
       "text": [
        "/home/agconti/my_dev/github/Atlatl_django/mysite\n"
       ]
      }
     ],
     "prompt_number": 19
    },
    {
     "cell_type": "code",
     "collapsed": false,
     "input": [
      "import subprocess"
     ],
     "language": "python",
     "metadata": {},
     "outputs": [],
     "prompt_number": 20
    },
    {
     "cell_type": "code",
     "collapsed": false,
     "input": [
      "subprocess.Popen([\"python\", \"manage.py\", \"syncdb\"])"
     ],
     "language": "python",
     "metadata": {},
     "outputs": [
      {
       "metadata": {},
       "output_type": "pyout",
       "prompt_number": 21,
       "text": [
        "<subprocess.Popen at 0x30c4ad0>"
       ]
      }
     ],
     "prompt_number": 21
    },
    {
     "cell_type": "code",
     "collapsed": false,
     "input": [
      "my_server.link()"
     ],
     "language": "python",
     "metadata": {},
     "outputs": [
      {
       "output_type": "stream",
       "stream": "stdout",
       "text": [
        "Im running!\n",
        "Go here: http://127.0.0.1:8000\n"
       ]
      }
     ],
     "prompt_number": 22
    },
    {
     "cell_type": "code",
     "collapsed": false,
     "input": [
      "import os\n",
      "os.environ['DJANGO_SETTINGS_MODULE'] = 'mysite.settings'"
     ],
     "language": "python",
     "metadata": {},
     "outputs": [],
     "prompt_number": 23
    },
    {
     "cell_type": "code",
     "collapsed": false,
     "input": [
      "# this lets me easily manipulate these models from within the notebook\n",
      "from houses.models import Owner,House"
     ],
     "language": "python",
     "metadata": {},
     "outputs": [],
     "prompt_number": 24
    },
    {
     "cell_type": "code",
     "collapsed": false,
     "input": [
      "cd houses/ "
     ],
     "language": "python",
     "metadata": {},
     "outputs": [
      {
       "output_type": "stream",
       "stream": "stdout",
       "text": [
        "/home/agconti/my_dev/github/Atlatl_django/mysite/houses\n"
       ]
      }
     ],
     "prompt_number": 25
    },
    {
     "cell_type": "code",
     "collapsed": false,
     "input": [
      "%%bash \n",
      "#mkdir management"
     ],
     "language": "python",
     "metadata": {},
     "outputs": [],
     "prompt_number": 44
    },
    {
     "cell_type": "code",
     "collapsed": false,
     "input": [
      "cd management"
     ],
     "language": "python",
     "metadata": {},
     "outputs": [
      {
       "output_type": "stream",
       "stream": "stdout",
       "text": [
        "/home/agconti/my_dev/github/Atlatl_django/mysite/houses/management\n"
       ]
      }
     ],
     "prompt_number": 26
    },
    {
     "cell_type": "code",
     "collapsed": false,
     "input": [
      "%%writefile __init__.py\n",
      "#Make management a Python package"
     ],
     "language": "python",
     "metadata": {},
     "outputs": [
      {
       "output_type": "stream",
       "stream": "stdout",
       "text": [
        "Overwriting __init__.py\n"
       ]
      }
     ],
     "prompt_number": 27
    },
    {
     "cell_type": "code",
     "collapsed": false,
     "input": [
      "%%bash \n",
      "#mkdir commands"
     ],
     "language": "python",
     "metadata": {},
     "outputs": [],
     "prompt_number": 28
    },
    {
     "cell_type": "code",
     "collapsed": false,
     "input": [
      "cd commands"
     ],
     "language": "python",
     "metadata": {},
     "outputs": [
      {
       "output_type": "stream",
       "stream": "stdout",
       "text": [
        "/home/agconti/my_dev/github/Atlatl_django/mysite/houses/management/commands\n"
       ]
      }
     ],
     "prompt_number": 29
    },
    {
     "cell_type": "code",
     "collapsed": false,
     "input": [
      "%%writefile __init__.py\n",
      "#Make commands a Python package"
     ],
     "language": "python",
     "metadata": {},
     "outputs": [
      {
       "output_type": "stream",
       "stream": "stdout",
       "text": [
        "Overwriting __init__.py\n"
       ]
      }
     ],
     "prompt_number": 30
    },
    {
     "cell_type": "code",
     "collapsed": false,
     "input": [
      "%%writefile add_owner.py\n",
      "#creates an add owner manage.py custom command"
     ],
     "language": "python",
     "metadata": {},
     "outputs": [
      {
       "output_type": "stream",
       "stream": "stdout",
       "text": [
        "Overwriting add_owner.py\n"
       ]
      }
     ],
     "prompt_number": 31
    },
    {
     "cell_type": "code",
     "collapsed": false,
     "input": [
      "%%writefile add_owner.py\n",
      "from django.core.management.base import BaseCommand, CommandError\n",
      "from polls.models import Poll\n",
      "\n",
      "class Command(BaseCommand):\n",
      "    args = '<poll_id poll_id ...>'\n",
      "    help = 'Closes the specified poll for voting'\n",
      "    option_list = BaseCommand.option_list + (\n",
      "        make_option('--delete',\n",
      "            action='store_true',\n",
      "            dest='delete',\n",
      "            default=False,\n",
      "            help='Delete poll instead of closing it'),\n",
      "        )\n",
      "\n",
      "    def handle(self, *args, **options):\n",
      "        for poll_id in args:\n",
      "            try:\n",
      "                poll = Poll.objects.get(pk=int(poll_id))\n",
      "            except Poll.DoesNotExist:\n",
      "                raise CommandError('Poll \"%s\" does not exist' % poll_id)\n",
      "\n",
      "            poll.opened = False\n",
      "            poll.save()\n",
      "\n",
      "            self.stdout.write('Successfully closed poll \"%s\"' % poll_id)"
     ],
     "language": "python",
     "metadata": {},
     "outputs": []
    },
    {
     "cell_type": "code",
     "collapsed": false,
     "input": [],
     "language": "python",
     "metadata": {},
     "outputs": []
    },
    {
     "cell_type": "code",
     "collapsed": false,
     "input": [],
     "language": "python",
     "metadata": {},
     "outputs": []
    },
    {
     "cell_type": "markdown",
     "metadata": {},
     "source": [
      "###Version Control "
     ]
    },
    {
     "cell_type": "code",
     "collapsed": false,
     "input": [
      "cd ~/my_dev/github/Atlatl_django/"
     ],
     "language": "python",
     "metadata": {},
     "outputs": [
      {
       "output_type": "stream",
       "stream": "stdout",
       "text": [
        "/home/agconti/my_dev/github/Atlatl_django\n"
       ]
      }
     ],
     "prompt_number": 54
    },
    {
     "cell_type": "code",
     "collapsed": false,
     "input": [
      "!git add Atlatl_Django.ipynb"
     ],
     "language": "python",
     "metadata": {},
     "outputs": [],
     "prompt_number": 55
    },
    {
     "cell_type": "code",
     "collapsed": false,
     "input": [
      "(number/0) # a break before commit"
     ],
     "language": "python",
     "metadata": {},
     "outputs": []
    },
    {
     "cell_type": "code",
     "collapsed": false,
     "input": [
      "!git commit -a -m \"first steps in manage.py custom commands\""
     ],
     "language": "python",
     "metadata": {},
     "outputs": [
      {
       "output_type": "stream",
       "stream": "stdout",
       "text": [
        "[master b0fb48a] first steps in manage.py custom commands\r\n",
        " 22 files changed, 1350 insertions(+), 4 deletions(-)\r\n",
        " create mode 100644 .ipynb_checkpoints/Atlatl_Django-checkpoint.ipynb\r\n",
        " create mode 100644 libpeerconnection.log\r\n",
        " create mode 100644 mysite/houses/__init__.py\r\n",
        " create mode 100644 mysite/houses/__init__.pyc\r\n",
        " create mode 100644 mysite/houses/management/__init__.py\r\n",
        " create mode 100644 mysite/houses/management/commands/__init__.py\r\n",
        " create mode 100644 mysite/houses/management/commands/add_owner.py\r\n",
        " create mode 100644 mysite/houses/models.py\r\n",
        " create mode 100644 mysite/houses/models.pyc\r\n",
        " create mode 100644 mysite/houses/tests.py\r\n",
        " create mode 100644 mysite/houses/views.py\r\n",
        " create mode 100644 mysite/manage.py\r\n",
        " create mode 100644 mysite/mysite/__init__.py\r\n",
        " create mode 100644 mysite/mysite/__init__.pyc\r\n",
        " create mode 100644 mysite/mysite/settings.py\r\n",
        " create mode 100644 mysite/mysite/settings.pyc\r\n",
        " create mode 100644 mysite/mysite/urls.py\r\n",
        " create mode 100644 mysite/mysite/urls.pyc\r\n",
        " create mode 100644 mysite/mysite/wsgi.py\r\n",
        " create mode 100644 mysite/mysite/wsgi.pyc\r\n",
        " create mode 100644 mysite/sqlite3.db\r\n"
       ]
      }
     ],
     "prompt_number": 57
    },
    {
     "cell_type": "code",
     "collapsed": false,
     "input": [],
     "language": "python",
     "metadata": {},
     "outputs": []
    }
   ],
   "metadata": {}
  }
 ]
}