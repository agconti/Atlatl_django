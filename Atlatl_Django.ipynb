{
 "metadata": {
  "name": ""
 },
 "nbformat": 3,
 "nbformat_minor": 0,
 "worksheets": [
  {
   "cells": [
    {
     "cell_type": "code",
     "collapsed": false,
     "input": [
      "import django"
     ],
     "language": "python",
     "metadata": {},
     "outputs": [],
     "prompt_number": 1
    },
    {
     "cell_type": "code",
     "collapsed": false,
     "input": [
      "django.VERSION"
     ],
     "language": "python",
     "metadata": {},
     "outputs": [
      {
       "metadata": {},
       "output_type": "pyout",
       "prompt_number": 2,
       "text": [
        "(1, 5, 1, 'final', 0)"
       ]
      }
     ],
     "prompt_number": 2
    },
    {
     "cell_type": "markdown",
     "metadata": {},
     "source": [
      "Create my project and call it mysite:\n",
      "    \n",
      "    !django-admin.py startproject mysite"
     ]
    },
    {
     "cell_type": "code",
     "collapsed": false,
     "input": [
      "cd mysite"
     ],
     "language": "python",
     "metadata": {},
     "outputs": [
      {
       "output_type": "stream",
       "stream": "stdout",
       "text": [
        "/home/agconti/my_dev/github/Atlatl_django/mysite\n"
       ]
      }
     ],
     "prompt_number": 3
    },
    {
     "cell_type": "markdown",
     "metadata": {},
     "source": [
      "The line below clears all of the sqlite database so that I can run this notebook multiple times:"
     ]
    },
    {
     "cell_type": "code",
     "collapsed": false,
     "input": [
      "!python manage.py sqlclear houses | python manage.py dbshell"
     ],
     "language": "python",
     "metadata": {},
     "outputs": [],
     "prompt_number": 4
    },
    {
     "cell_type": "code",
     "collapsed": false,
     "input": [
      "class dev_server(object):\n",
      "    '''\n",
      "    for easy server management\n",
      "    '''\n",
      "    def __init__(self):\n",
      "        self.server = 'no_server'\n",
      "    \n",
      "    def start(self):\n",
      "        '''\n",
      "        starts the server\n",
      "        '''\n",
      "        import os\n",
      "        import subprocess\n",
      "        \n",
      "        #get cwd\n",
      "        cdir = os.getcwd()\n",
      "        \n",
      "        # change dir to make sure manage.py is avaliable\n",
      "        os.chdir('/home/agconti/my_dev/github/Atlatl_django/mysite')\n",
      "        \n",
      "        # start dev server as a subprocess so we can still develop interactively\n",
      "        self.server = subprocess.Popen([\"python\", \"manage.py\", \"runserver\"])\n",
      "        \n",
      "        #change dir back\n",
      "        os.chdir(cdir)\n",
      "        self.server = 'running'\n",
      "        \n",
      "        print \"Im running!\\nGo here: http://127.0.0.1:8000/\\nCurrent Working Dir: %s\"%(cdir)\n",
      "        \n",
      "    \n",
      "    def link(self):\n",
      "        '''\n",
      "        outputs the server's link for convience\n",
      "        '''\n",
      "        if self.server == 'running': \n",
      "            print \"Im running!\\nGo here: http://127.0.0.1:8000\"\n",
      "        else:\n",
      "            print \"Sorry, I'm not running.\"\n",
      "    \n",
      "    def end(self):\n",
      "        '''\n",
      "        ends the sever\n",
      "        '''\n",
      "        if self.server == 'no_server':\n",
      "            print \"there is no sever!\"\n",
      "        else:\n",
      "            self.server.terminate()\n",
      "            self.server = 'no_server'\n",
      "            print \"I've Stopped.\"     "
     ],
     "language": "python",
     "metadata": {},
     "outputs": [],
     "prompt_number": 5
    },
    {
     "cell_type": "code",
     "collapsed": false,
     "input": [
      "my_server = dev_server()"
     ],
     "language": "python",
     "metadata": {},
     "outputs": [],
     "prompt_number": 6
    },
    {
     "cell_type": "code",
     "collapsed": false,
     "input": [
      "my_server.start()"
     ],
     "language": "python",
     "metadata": {},
     "outputs": [
      {
       "output_type": "stream",
       "stream": "stdout",
       "text": [
        "Im running!\n",
        "Go here: http://127.0.0.1:8000/\n",
        "Current Working Dir: /home/agconti/my_dev/github/Atlatl_django/mysite/houses\n"
       ]
      }
     ],
     "prompt_number": 11
    },
    {
     "cell_type": "markdown",
     "metadata": {},
     "source": [
      "Create my app and call it houses:\n",
      "    \n",
      "    !python manage.py startapp houses"
     ]
    },
    {
     "cell_type": "code",
     "collapsed": false,
     "input": [
      "cd .."
     ],
     "language": "python",
     "metadata": {},
     "outputs": [
      {
       "output_type": "stream",
       "stream": "stdout",
       "text": [
        "/home/agconti/my_dev/github/Atlatl_django/mysite\n"
       ]
      }
     ],
     "prompt_number": 15
    },
    {
     "cell_type": "code",
     "collapsed": false,
     "input": [
      "ls -l"
     ],
     "language": "python",
     "metadata": {},
     "outputs": [
      {
       "output_type": "stream",
       "stream": "stdout",
       "text": [
        "total 48\r\n",
        "drwxrwxr-x 3 agconti agconti  4096 Jul 19 23:08 \u001b[0m\u001b[01;34mhouses\u001b[0m/\r\n",
        "-rw-r--r-- 1 agconti agconti   249 Jul 19 12:07 manage.py\r\n",
        "drwxrwxr-x 2 agconti agconti  4096 Jul 20 09:55 \u001b[01;34mmysite\u001b[0m/\r\n",
        "-rw-r--r-- 1 agconti agconti 29696 Jul 20 09:55 sqlite3.db\r\n"
       ]
      }
     ],
     "prompt_number": 16
    },
    {
     "cell_type": "code",
     "collapsed": false,
     "input": [
      "cd houses/"
     ],
     "language": "python",
     "metadata": {},
     "outputs": [
      {
       "output_type": "stream",
       "stream": "stdout",
       "text": [
        "/home/agconti/my_dev/github/Atlatl_django/mysite/houses\n"
       ]
      }
     ],
     "prompt_number": 17
    },
    {
     "cell_type": "code",
     "collapsed": false,
     "input": [
      "ll"
     ],
     "language": "python",
     "metadata": {},
     "outputs": [
      {
       "output_type": "stream",
       "stream": "stdout",
       "text": [
        "total 24\r\n",
        "-rw-r--r-- 1 agconti    0 Jul 19 12:34 __init__.py\r\n",
        "-rw-r--r-- 1 agconti  154 Jul 19 12:55 __init__.pyc\r\n",
        "drwxrwxr-x 3 agconti 4096 Jul 19 23:08 \u001b[0m\u001b[01;34mmanagement\u001b[0m/\r\n",
        "-rw-r--r-- 1 agconti  266 Jul 19 23:08 models.py\r\n",
        "-rw-r--r-- 1 agconti  827 Jul 19 23:08 models.pyc\r\n",
        "-rw-r--r-- 1 agconti  383 Jul 19 12:34 tests.py\r\n",
        "-rw-r--r-- 1 agconti   26 Jul 19 12:34 views.py\r\n"
       ]
      }
     ],
     "prompt_number": 18
    },
    {
     "cell_type": "code",
     "collapsed": false,
     "input": [
      "%%writefile models.py\n",
      "from django.db import models\n",
      "\n",
      "# Create your models here.\n",
      "\n",
      "class Owner(models.Model):\n",
      "    name = models.TextField(max_length=200, unique=True)\n",
      "\n",
      "class House(models.Model):\n",
      "    address = models.TextField(max_length=200, unique=True)\n",
      "    owner = models.ForeignKey(Owner)"
     ],
     "language": "python",
     "metadata": {},
     "outputs": [
      {
       "output_type": "stream",
       "stream": "stdout",
       "text": [
        "Overwriting models.py\n"
       ]
      }
     ],
     "prompt_number": 19
    },
    {
     "cell_type": "code",
     "collapsed": false,
     "input": [
      "cd .."
     ],
     "language": "python",
     "metadata": {},
     "outputs": [
      {
       "output_type": "stream",
       "stream": "stdout",
       "text": [
        "/home/agconti/my_dev/github/Atlatl_django/mysite\n"
       ]
      }
     ],
     "prompt_number": 20
    },
    {
     "cell_type": "code",
     "collapsed": false,
     "input": [
      "cd mysite/"
     ],
     "language": "python",
     "metadata": {},
     "outputs": [
      {
       "output_type": "stream",
       "stream": "stdout",
       "text": [
        "/home/agconti/my_dev/github/Atlatl_django/mysite/mysite\n"
       ]
      }
     ],
     "prompt_number": 21
    },
    {
     "cell_type": "code",
     "collapsed": false,
     "input": [
      "%%writefile settings.py\n",
      "\n",
      "# Django settings for mysite project.\n",
      "\n",
      "DEBUG = True\n",
      "TEMPLATE_DEBUG = DEBUG\n",
      "\n",
      "ADMINS = (\n",
      "    # ('Your Name', 'your_email@example.com'),\n",
      ")\n",
      "\n",
      "MANAGERS = ADMINS\n",
      "\n",
      "DATABASES = {\n",
      "    'default': {\n",
      "        'ENGINE': 'django.db.backends.sqlite3', # Add 'postgresql_psycopg2', 'mysql', 'sqlite3' or 'oracle'.\n",
      "        'NAME': '/home/agconti/my_dev/github/Atlatl_django/mysite/sqlite3.db', # Or path to database file if using sqlite3.\n",
      "        # The following settings are not used with sqlite3:\n",
      "        'USER': '',\n",
      "        'PASSWORD': '',\n",
      "        'HOST': '',                      # Empty for localhost through domain sockets or '127.0.0.1' for localhost through TCP.\n",
      "        'PORT': '',                      # Set to empty string for default.\n",
      "    }\n",
      "}\n",
      "\n",
      "# Hosts/domain names that are valid for this site; required if DEBUG is False\n",
      "# See https://docs.djangoproject.com/en/1.5/ref/settings/#allowed-hosts\n",
      "ALLOWED_HOSTS = []\n",
      "\n",
      "# Local time zone for this installation. Choices can be found here:\n",
      "# http://en.wikipedia.org/wiki/List_of_tz_zones_by_name\n",
      "# although not all choices may be available on all operating systems.\n",
      "# In a Windows environment this must be set to your system time zone.\n",
      "TIME_ZONE = 'America/Chicago'\n",
      "\n",
      "# Language code for this installation. All choices can be found here:\n",
      "# http://www.i18nguy.com/unicode/language-identifiers.html\n",
      "LANGUAGE_CODE = 'en-us'\n",
      "\n",
      "SITE_ID = 1\n",
      "\n",
      "# If you set this to False, Django will make some optimizations so as not\n",
      "# to load the internationalization machinery.\n",
      "USE_I18N = True\n",
      "\n",
      "# If you set this to False, Django will not format dates, numbers and\n",
      "# calendars according to the current locale.\n",
      "USE_L10N = True\n",
      "\n",
      "# If you set this to False, Django will not use timezone-aware datetimes.\n",
      "USE_TZ = True\n",
      "\n",
      "# Absolute filesystem path to the directory that will hold user-uploaded files.\n",
      "# Example: \"/var/www/example.com/media/\"\n",
      "MEDIA_ROOT = ''\n",
      "\n",
      "# URL that handles the media served from MEDIA_ROOT. Make sure to use a\n",
      "# trailing slash.\n",
      "# Examples: \"http://example.com/media/\", \"http://media.example.com/\"\n",
      "MEDIA_URL = ''\n",
      "\n",
      "# Absolute path to the directory static files should be collected to.\n",
      "# Don't put anything in this directory yourself; store your static files\n",
      "# in apps' \"static/\" subdirectories and in STATICFILES_DIRS.\n",
      "# Example: \"/var/www/example.com/static/\"\n",
      "STATIC_ROOT = ''\n",
      "\n",
      "# URL prefix for static files.\n",
      "# Example: \"http://example.com/static/\", \"http://static.example.com/\"\n",
      "STATIC_URL = '/static/'\n",
      "\n",
      "# Additional locations of static files\n",
      "STATICFILES_DIRS = (\n",
      "    # Put strings here, like \"/home/html/static\" or \"C:/www/django/static\".\n",
      "    # Always use forward slashes, even on Windows.\n",
      "    # Don't forget to use absolute paths, not relative paths.\n",
      ")\n",
      "\n",
      "# List of finder classes that know how to find static files in\n",
      "# various locations.\n",
      "STATICFILES_FINDERS = (\n",
      "    'django.contrib.staticfiles.finders.FileSystemFinder',\n",
      "    'django.contrib.staticfiles.finders.AppDirectoriesFinder',\n",
      "#    'django.contrib.staticfiles.finders.DefaultStorageFinder',\n",
      ")\n",
      "\n",
      "# Make this unique, and don't share it with anybody.\n",
      "SECRET_KEY = '(p(3gth07w54-0@+2^cx&@b5tdmd1p5v_&)(b0^8q-uop!^7(-'\n",
      "\n",
      "# List of callables that know how to import templates from various sources.\n",
      "TEMPLATE_LOADERS = (\n",
      "    'django.template.loaders.filesystem.Loader',\n",
      "    'django.template.loaders.app_directories.Loader',\n",
      "#     'django.template.loaders.eggs.Loader',\n",
      ")\n",
      "\n",
      "MIDDLEWARE_CLASSES = (\n",
      "    'django.middleware.common.CommonMiddleware',\n",
      "    'django.contrib.sessions.middleware.SessionMiddleware',\n",
      "    'django.middleware.csrf.CsrfViewMiddleware',\n",
      "    'django.contrib.auth.middleware.AuthenticationMiddleware',\n",
      "    'django.contrib.messages.middleware.MessageMiddleware',\n",
      "    # Uncomment the next line for simple clickjacking protection:\n",
      "    # 'django.middleware.clickjacking.XFrameOptionsMiddleware',\n",
      ")\n",
      "\n",
      "ROOT_URLCONF = 'mysite.urls'\n",
      "\n",
      "# Python dotted path to the WSGI application used by Django's runserver.\n",
      "WSGI_APPLICATION = 'mysite.wsgi.application'\n",
      "\n",
      "TEMPLATE_DIRS = (\n",
      "    # Put strings here, like \"/home/html/django_templates\" or \"C:/www/django/templates\".\n",
      "    # Always use forward slashes, even on Windows.\n",
      "    # Don't forget to use absolute paths, not relative paths.\n",
      ")\n",
      "\n",
      "INSTALLED_APPS = (\n",
      "    'django.contrib.auth',\n",
      "    'django.contrib.contenttypes',\n",
      "    'django.contrib.sessions',\n",
      "    #'django.contrib.sites',\n",
      "    'django.contrib.messages',\n",
      "    'django.contrib.staticfiles',\n",
      "    # Uncomment the next line to enable the admin:\n",
      "     'django.contrib.admin',\n",
      "    # Uncomment the next line to enable admin documentation:\n",
      "    # 'django.contrib.admindocs',\n",
      "     'houses' # register my new app\n",
      ")\n",
      "\n",
      "# A sample logging configuration. The only tangible logging\n",
      "# performed by this configuration is to send an email to\n",
      "# the site admins on every HTTP 500 error when DEBUG=False.\n",
      "# See http://docs.djangoproject.com/en/dev/topics/logging for\n",
      "# more details on how to customize your logging configuration.\n",
      "LOGGING = {\n",
      "    'version': 1,\n",
      "    'disable_existing_loggers': False,\n",
      "    'filters': {\n",
      "        'require_debug_false': {\n",
      "            '()': 'django.utils.log.RequireDebugFalse'\n",
      "        }\n",
      "    },\n",
      "    'handlers': {\n",
      "        'mail_admins': {\n",
      "            'level': 'ERROR',\n",
      "            'filters': ['require_debug_false'],\n",
      "            'class': 'django.utils.log.AdminEmailHandler'\n",
      "        }\n",
      "    },\n",
      "    'loggers': {\n",
      "        'django.request': {\n",
      "            'handlers': ['mail_admins'],\n",
      "            'level': 'ERROR',\n",
      "            'propagate': True,\n",
      "        },\n",
      "    }\n",
      "}\n"
     ],
     "language": "python",
     "metadata": {},
     "outputs": [
      {
       "output_type": "stream",
       "stream": "stdout",
       "text": [
        "Overwriting settings.py\n"
       ]
      }
     ],
     "prompt_number": 22
    },
    {
     "cell_type": "code",
     "collapsed": false,
     "input": [
      "%%writefile urls.py\n",
      "from django.conf.urls import patterns, include, url\n",
      "\n",
      "# Uncomment the next two lines to enable the admin:\n",
      "from django.contrib import admin\n",
      "admin.autodiscover()\n",
      "\n",
      "urlpatterns = patterns('',\n",
      "    # Examples:\n",
      "    # url(r'^$', 'mysite.views.home', name='home'),\n",
      "    # url(r'^mysite/', include('mysite.foo.urls')),\n",
      "\n",
      "    # Uncomment the admin/doc line below to enable admin documentation:\n",
      "    # url(r'^admin/doc/', include('django.contrib.admindocs.urls')),\n",
      "\n",
      "    # Uncomment the next line to enable the admin:\n",
      "     url(r'^admin/', include(admin.site.urls)),\n",
      ")\n"
     ],
     "language": "python",
     "metadata": {},
     "outputs": [
      {
       "output_type": "stream",
       "stream": "stdout",
       "text": [
        "Overwriting urls.py\n"
       ]
      }
     ],
     "prompt_number": 23
    },
    {
     "cell_type": "code",
     "collapsed": false,
     "input": [
      "cd /home/agconti/my_dev/github/Atlatl_django/mysite"
     ],
     "language": "python",
     "metadata": {},
     "outputs": [
      {
       "output_type": "stream",
       "stream": "stdout",
       "text": [
        "/home/agconti/my_dev/github/Atlatl_django/mysite\n"
       ]
      }
     ],
     "prompt_number": 24
    },
    {
     "cell_type": "code",
     "collapsed": false,
     "input": [
      "import subprocess"
     ],
     "language": "python",
     "metadata": {},
     "outputs": [],
     "prompt_number": 25
    },
    {
     "cell_type": "code",
     "collapsed": false,
     "input": [
      "subprocess.Popen([\"python\", \"manage.py\", \"syncdb\"])"
     ],
     "language": "python",
     "metadata": {},
     "outputs": [
      {
       "metadata": {},
       "output_type": "pyout",
       "prompt_number": 26,
       "text": [
        "<subprocess.Popen at 0x2a3c810>"
       ]
      }
     ],
     "prompt_number": 26
    },
    {
     "cell_type": "code",
     "collapsed": false,
     "input": [
      "cd .."
     ],
     "language": "python",
     "metadata": {},
     "outputs": [
      {
       "output_type": "stream",
       "stream": "stdout",
       "text": [
        "/home/agconti/my_dev/github/Atlatl_django\n"
       ]
      }
     ],
     "prompt_number": 27
    },
    {
     "cell_type": "code",
     "collapsed": false,
     "input": [
      "ll"
     ],
     "language": "python",
     "metadata": {},
     "outputs": [
      {
       "output_type": "stream",
       "stream": "stdout",
       "text": [
        "total 48\r\n",
        "-rw-rw-r-- 1 agconti 39209 Jul 20 09:56 Atlatl_Django.ipynb\r\n",
        "-rw-rw-r-- 1 agconti     0 Jul 19 11:44 libpeerconnection.log\r\n",
        "drwxrwxr-x 4 agconti  4096 Jul 20 09:57 \u001b[0m\u001b[01;34mmysite\u001b[0m/\r\n",
        "-rw-rw-r-- 1 agconti    52 Jul 18 17:46 README.md\r\n"
       ]
      }
     ],
     "prompt_number": 28
    },
    {
     "cell_type": "code",
     "collapsed": false,
     "input": [
      "import os\n",
      "os.environ['DJANGO_SETTINGS_MODULE'] = 'mysite.settings'"
     ],
     "language": "python",
     "metadata": {},
     "outputs": [],
     "prompt_number": 29
    },
    {
     "cell_type": "markdown",
     "metadata": {},
     "source": [
      "Create The superuser account:\n",
      "\n",
      "    from django.contrib.auth.models import User \n",
      "    user = User.objects.create_user('andrew', 'andrew@agconti.com', 'password')\n",
      "    user.is_staff = True\n",
      "    user.save()"
     ]
    },
    {
     "cell_type": "markdown",
     "metadata": {},
     "source": [
      "###Check out the admin console\n",
      "http://127.0.0.1:8000/admin"
     ]
    },
    {
     "cell_type": "markdown",
     "metadata": {},
     "source": [
      "Start Testing for first custom manage.py function:"
     ]
    },
    {
     "cell_type": "code",
     "collapsed": false,
     "input": [
      "cd mysite/"
     ],
     "language": "python",
     "metadata": {},
     "outputs": [
      {
       "output_type": "stream",
       "stream": "stdout",
       "text": [
        "/home/agconti/my_dev/github/Atlatl_django/mysite\n"
       ]
      }
     ],
     "prompt_number": 30
    },
    {
     "cell_type": "code",
     "collapsed": false,
     "input": [
      "# this lets me easily manipulate these models from within the notebook\n",
      "from houses.models import Owner,House"
     ],
     "language": "python",
     "metadata": {},
     "outputs": [],
     "prompt_number": 31
    },
    {
     "cell_type": "code",
     "collapsed": false,
     "input": [
      "o = Owner(name='Luke Skywalker')\n",
      "o.save()"
     ],
     "language": "python",
     "metadata": {},
     "outputs": [],
     "prompt_number": 32
    },
    {
     "cell_type": "code",
     "collapsed": false,
     "input": [
      "Owner.objects.all()"
     ],
     "language": "python",
     "metadata": {},
     "outputs": [
      {
       "metadata": {},
       "output_type": "pyout",
       "prompt_number": 33,
       "text": [
        "[<Owner: Owner object>]"
       ]
      }
     ],
     "prompt_number": 33
    },
    {
     "cell_type": "code",
     "collapsed": false,
     "input": [
      "jedi = Owner.objects.filter(id=1)"
     ],
     "language": "python",
     "metadata": {},
     "outputs": [],
     "prompt_number": 34
    },
    {
     "cell_type": "code",
     "collapsed": false,
     "input": [
      "jedi.values()"
     ],
     "language": "python",
     "metadata": {},
     "outputs": [
      {
       "metadata": {},
       "output_type": "pyout",
       "prompt_number": 35,
       "text": [
        "[{u'id': 1, 'name': u'Luke Skywalker'}]"
       ]
      }
     ],
     "prompt_number": 35
    },
    {
     "cell_type": "code",
     "collapsed": false,
     "input": [
      "jedi.delete()"
     ],
     "language": "python",
     "metadata": {},
     "outputs": [],
     "prompt_number": 36
    },
    {
     "cell_type": "markdown",
     "metadata": {},
     "source": [
      "Create the dir structure for the custom manage.py commands:"
     ]
    },
    {
     "cell_type": "code",
     "collapsed": false,
     "input": [
      "cd houses/ "
     ],
     "language": "python",
     "metadata": {},
     "outputs": [
      {
       "output_type": "stream",
       "stream": "stdout",
       "text": [
        "/home/agconti/my_dev/github/Atlatl_django/mysite/houses\n"
       ]
      }
     ],
     "prompt_number": 37
    },
    {
     "cell_type": "markdown",
     "metadata": {},
     "source": [
      "    %%bash\n",
      "    mkdir management"
     ]
    },
    {
     "cell_type": "code",
     "collapsed": false,
     "input": [
      "cd management"
     ],
     "language": "python",
     "metadata": {},
     "outputs": [
      {
       "output_type": "stream",
       "stream": "stdout",
       "text": [
        "/home/agconti/my_dev/github/Atlatl_django/mysite/houses/management\n"
       ]
      }
     ],
     "prompt_number": 38
    },
    {
     "cell_type": "code",
     "collapsed": false,
     "input": [
      "%%writefile __init__.py\n",
      "#Make management a Python package"
     ],
     "language": "python",
     "metadata": {},
     "outputs": [
      {
       "output_type": "stream",
       "stream": "stdout",
       "text": [
        "Overwriting __init__.py\n"
       ]
      }
     ],
     "prompt_number": 39
    },
    {
     "cell_type": "markdown",
     "metadata": {},
     "source": [
      "    %%bash \n",
      "    mkdir commands"
     ]
    },
    {
     "cell_type": "code",
     "collapsed": false,
     "input": [
      "cd commands"
     ],
     "language": "python",
     "metadata": {},
     "outputs": [
      {
       "output_type": "stream",
       "stream": "stdout",
       "text": [
        "/home/agconti/my_dev/github/Atlatl_django/mysite/houses/management/commands\n"
       ]
      }
     ],
     "prompt_number": 40
    },
    {
     "cell_type": "code",
     "collapsed": false,
     "input": [
      "%%writefile __init__.py\n",
      "#Make commands a Python package"
     ],
     "language": "python",
     "metadata": {},
     "outputs": [
      {
       "output_type": "stream",
       "stream": "stdout",
       "text": [
        "Overwriting __init__.py\n"
       ]
      }
     ],
     "prompt_number": 41
    },
    {
     "cell_type": "code",
     "collapsed": false,
     "input": [
      "%%writefile add_owner.py\n",
      "#creates an add owner manage.py custom command"
     ],
     "language": "python",
     "metadata": {},
     "outputs": [
      {
       "output_type": "stream",
       "stream": "stdout",
       "text": [
        "Overwriting add_owner.py\n"
       ]
      }
     ],
     "prompt_number": 42
    },
    {
     "cell_type": "code",
     "collapsed": false,
     "input": [
      "cd /home/agconti/my_dev/github/Atlatl_django/mysite/houses/management/commands"
     ],
     "language": "python",
     "metadata": {},
     "outputs": [
      {
       "output_type": "stream",
       "stream": "stdout",
       "text": [
        "/home/agconti/my_dev/github/Atlatl_django/mysite/houses/management/commands\n"
       ]
      }
     ],
     "prompt_number": 43
    },
    {
     "cell_type": "code",
     "collapsed": false,
     "input": [
      "%%writefile add_owner.py\n",
      "from optparse import make_option\n",
      "from django.core.management.base import BaseCommand, CommandError\n",
      "from houses.models import Owner\n",
      "\n",
      "class Command(BaseCommand):\n",
      "    option_list = BaseCommand.option_list + (\n",
      "        make_option('--name',\n",
      "            action='store',\n",
      "            type = 'string',\n",
      "            dest='name',\n",
      "            default=False,\n",
      "            help='Add Owner to owner Model'),\n",
      "        )\n",
      "\n",
      "    def handle(self, *args, **options):\n",
      "        if options['name']:\n",
      "            try:\n",
      "                o = Owner(name=options['name'])\n",
      "                o.save()\n",
      "            except Owner.unique_error_message:\n",
      "                raise CommandError('Owner \"%s\" already exists' % options['name'])\n",
      "    \n",
      "            self.stdout.write('Successfully Added Owner Name=\"%s\"' % options['name'])"
     ],
     "language": "python",
     "metadata": {},
     "outputs": [
      {
       "output_type": "stream",
       "stream": "stdout",
       "text": [
        "Overwriting add_owner.py\n"
       ]
      }
     ],
     "prompt_number": 44
    },
    {
     "cell_type": "code",
     "collapsed": false,
     "input": [
      "cd ~/my_dev/github/Atlatl_django/mysite/"
     ],
     "language": "python",
     "metadata": {},
     "outputs": [
      {
       "output_type": "stream",
       "stream": "stdout",
       "text": [
        "/home/agconti/my_dev/github/Atlatl_django/mysite\n"
       ]
      }
     ],
     "prompt_number": 45
    },
    {
     "cell_type": "code",
     "collapsed": false,
     "input": [
      "ll"
     ],
     "language": "python",
     "metadata": {},
     "outputs": [
      {
       "output_type": "stream",
       "stream": "stdout",
       "text": [
        "total 48\r\n",
        "drwxrwxr-x 3 agconti  4096 Jul 20 08:57 \u001b[0m\u001b[01;34mhouses\u001b[0m/\r\n",
        "-rw-r--r-- 1 agconti   249 Jul 19 11:07 manage.py\r\n",
        "drwxrwxr-x 2 agconti  4096 Jul 20 08:57 \u001b[01;34mmysite\u001b[0m/\r\n",
        "-rw-r--r-- 1 agconti 29696 Jul 20 08:57 sqlite3.db\r\n"
       ]
      }
     ],
     "prompt_number": 46
    },
    {
     "cell_type": "markdown",
     "metadata": {},
     "source": [
      "Test custom function:"
     ]
    },
    {
     "cell_type": "code",
     "collapsed": false,
     "input": [
      "!python manage.py add_owner --name='Luke Skywalker'"
     ],
     "language": "python",
     "metadata": {},
     "outputs": [
      {
       "output_type": "stream",
       "stream": "stdout",
       "text": [
        "Successfully Added Owner Name=\"Luke Skywalker\"\r\n"
       ]
      }
     ],
     "prompt_number": 47
    },
    {
     "cell_type": "code",
     "collapsed": false,
     "input": [
      "o = Owner.objects.filter(id=1)"
     ],
     "language": "python",
     "metadata": {},
     "outputs": [],
     "prompt_number": 48
    },
    {
     "cell_type": "code",
     "collapsed": false,
     "input": [
      "o.values_list()"
     ],
     "language": "python",
     "metadata": {},
     "outputs": [
      {
       "metadata": {},
       "output_type": "pyout",
       "prompt_number": 49,
       "text": [
        "[(1, u'Luke Skywalker')]"
       ]
      }
     ],
     "prompt_number": 49
    },
    {
     "cell_type": "code",
     "collapsed": false,
     "input": [
      "o.delete()"
     ],
     "language": "python",
     "metadata": {},
     "outputs": [],
     "prompt_number": 50
    },
    {
     "cell_type": "code",
     "collapsed": false,
     "input": [
      "!python manage.py add_owner --name='Luke Skywalker'"
     ],
     "language": "python",
     "metadata": {},
     "outputs": [
      {
       "output_type": "stream",
       "stream": "stdout",
       "text": [
        "Successfully Added Owner Name=\"Luke Skywalker\"\r\n"
       ]
      }
     ],
     "prompt_number": 51
    },
    {
     "cell_type": "code",
     "collapsed": false,
     "input": [
      "o.delete()"
     ],
     "language": "python",
     "metadata": {},
     "outputs": [],
     "prompt_number": 52
    },
    {
     "cell_type": "markdown",
     "metadata": {},
     "source": [
      "Add add_house function:"
     ]
    },
    {
     "cell_type": "code",
     "collapsed": false,
     "input": [
      "House.objects.all()"
     ],
     "language": "python",
     "metadata": {},
     "outputs": [
      {
       "metadata": {},
       "output_type": "pyout",
       "prompt_number": 53,
       "text": [
        "[]"
       ]
      }
     ],
     "prompt_number": 53
    },
    {
     "cell_type": "code",
     "collapsed": false,
     "input": [
      "o = Owner(name='Luke Skywalker')\n",
      "o.save()"
     ],
     "language": "python",
     "metadata": {},
     "outputs": [],
     "prompt_number": 54
    },
    {
     "cell_type": "code",
     "collapsed": false,
     "input": [
      "o.house_set.all()"
     ],
     "language": "python",
     "metadata": {},
     "outputs": [
      {
       "metadata": {},
       "output_type": "pyout",
       "prompt_number": 55,
       "text": [
        "[]"
       ]
      }
     ],
     "prompt_number": 55
    },
    {
     "cell_type": "code",
     "collapsed": false,
     "input": [
      "o.house_set.create(address='Way too close to the sand people')"
     ],
     "language": "python",
     "metadata": {},
     "outputs": [
      {
       "metadata": {},
       "output_type": "pyout",
       "prompt_number": 56,
       "text": [
        "<House: House object>"
       ]
      }
     ],
     "prompt_number": 56
    },
    {
     "cell_type": "code",
     "collapsed": false,
     "input": [
      "h = House.objects.all()"
     ],
     "language": "python",
     "metadata": {},
     "outputs": [],
     "prompt_number": 57
    },
    {
     "cell_type": "code",
     "collapsed": false,
     "input": [
      "h.values()"
     ],
     "language": "python",
     "metadata": {},
     "outputs": [
      {
       "metadata": {},
       "output_type": "pyout",
       "prompt_number": 58,
       "text": [
        "[{'owner_id': 1, u'id': 1, 'address': u'Way too close to the sand people'}]"
       ]
      }
     ],
     "prompt_number": 58
    },
    {
     "cell_type": "code",
     "collapsed": false,
     "input": [
      "o.house_set.all()"
     ],
     "language": "python",
     "metadata": {},
     "outputs": [
      {
       "metadata": {},
       "output_type": "pyout",
       "prompt_number": 59,
       "text": [
        "[<House: House object>]"
       ]
      }
     ],
     "prompt_number": 59
    },
    {
     "cell_type": "code",
     "collapsed": false,
     "input": [
      "o = Owner.objects.filter(name='Luke Skywalker')"
     ],
     "language": "python",
     "metadata": {},
     "outputs": [],
     "prompt_number": 60
    },
    {
     "cell_type": "code",
     "collapsed": false,
     "input": [
      "o.values()"
     ],
     "language": "python",
     "metadata": {},
     "outputs": [
      {
       "metadata": {},
       "output_type": "pyout",
       "prompt_number": 61,
       "text": [
        "[{u'id': 1, 'name': u'Luke Skywalker'}]"
       ]
      }
     ],
     "prompt_number": 61
    },
    {
     "cell_type": "code",
     "collapsed": false,
     "input": [
      "cd /home/agconti/my_dev/github/Atlatl_django/mysite/houses/management/commands"
     ],
     "language": "python",
     "metadata": {},
     "outputs": [
      {
       "output_type": "stream",
       "stream": "stdout",
       "text": [
        "/home/agconti/my_dev/github/Atlatl_django/mysite/houses/management/commands\n"
       ]
      }
     ],
     "prompt_number": 62
    },
    {
     "cell_type": "code",
     "collapsed": false,
     "input": [
      "%%writefile add_house.py\n",
      "from optparse import make_option\n",
      "from django.core.management.base import BaseCommand, CommandError\n",
      "from houses.models import House, Owner\n",
      "\n",
      "class Command(BaseCommand):\n",
      "    option_list = BaseCommand.option_list + (\n",
      "        make_option('--owner',\n",
      "            action='store',\n",
      "            type = 'string',\n",
      "            dest='owner',\n",
      "            default=False,\n",
      "            help='Add Owner to owner Model'),\n",
      "        \n",
      "        make_option('--address',\n",
      "            action='store',\n",
      "            type = 'string',\n",
      "            dest='address',\n",
      "            default=False,\n",
      "            help='Add house address to house model'),\n",
      "        )\n",
      "\n",
      "    def handle(self, *args, **options):\n",
      "        '''\n",
      "        '''\n",
      "        if (options['address'] != None) and (options['owner'] != None):\n",
      "            try:\n",
      "                o = Owner(name = options['owner'])\n",
      "                o.save()\n",
      "                self.stdout.write('Successfully Added Owner Name=%s'  % options['owner'])\n",
      "                \n",
      "                o.house_set.create(address = options['address'])\n",
      "                self.stdout.write('Successfully Added House: %s and Owner=%s'  % (options['address'], options['owner']))\n",
      "                \n",
      "            except Owner.unique_error_message:\n",
      "                o = Owner.objects.filter(name='Luke Skywalker')\n",
      "                o.house_set.create(address = options['address'])\n",
      "                self.stdout.write('Successfully Added House: %s to Owner=%s'  % (options['address'], options['owner']))\n",
      "        else:\n",
      "            print 'Please include address AND owner!'"
     ],
     "language": "python",
     "metadata": {},
     "outputs": [
      {
       "output_type": "stream",
       "stream": "stdout",
       "text": [
        "Overwriting add_house.py\n"
       ]
      }
     ],
     "prompt_number": 63
    },
    {
     "cell_type": "code",
     "collapsed": false,
     "input": [
      "cd ~/my_dev/github/Atlatl_django/mysite/"
     ],
     "language": "python",
     "metadata": {},
     "outputs": [
      {
       "output_type": "stream",
       "stream": "stdout",
       "text": [
        "/home/agconti/my_dev/github/Atlatl_django/mysite\n"
       ]
      }
     ],
     "prompt_number": 64
    },
    {
     "cell_type": "code",
     "collapsed": false,
     "input": [
      "!python manage.py add_house --address=\"123 Main St.\" --owner='Mary'"
     ],
     "language": "python",
     "metadata": {},
     "outputs": [
      {
       "output_type": "stream",
       "stream": "stdout",
       "text": [
        "Successfully Added House: 123 Main St. and Owner Name=Mary\r\n"
       ]
      }
     ],
     "prompt_number": 65
    },
    {
     "cell_type": "markdown",
     "metadata": {},
     "source": [
      "Tests:"
     ]
    },
    {
     "cell_type": "code",
     "collapsed": false,
     "input": [
      "h = House.objects.all()"
     ],
     "language": "python",
     "metadata": {},
     "outputs": [],
     "prompt_number": 66
    },
    {
     "cell_type": "code",
     "collapsed": false,
     "input": [
      "h.values()"
     ],
     "language": "python",
     "metadata": {},
     "outputs": [
      {
       "metadata": {},
       "output_type": "pyout",
       "prompt_number": 67,
       "text": [
        "[{'owner_id': 1, u'id': 1, 'address': u'Way too close to the sand people'}, {'owner_id': 2, u'id': 2, 'address': u'123 Main St.'}]"
       ]
      }
     ],
     "prompt_number": 67
    },
    {
     "cell_type": "code",
     "collapsed": false,
     "input": [
      "o = Owner.objects.all()\n",
      "o.values()"
     ],
     "language": "python",
     "metadata": {},
     "outputs": [
      {
       "metadata": {},
       "output_type": "pyout",
       "prompt_number": 68,
       "text": [
        "[{u'id': 1, 'name': u'Luke Skywalker'}, {u'id': 2, 'name': u'Mary'}]"
       ]
      }
     ],
     "prompt_number": 68
    },
    {
     "cell_type": "markdown",
     "metadata": {},
     "source": [
      "###Show_house tests:"
     ]
    },
    {
     "cell_type": "code",
     "collapsed": false,
     "input": [
      "h = House.objects.all()\n",
      "h"
     ],
     "language": "python",
     "metadata": {},
     "outputs": [
      {
       "metadata": {},
       "output_type": "pyout",
       "prompt_number": 76,
       "text": [
        "[<House: House object>, <House: House object>]"
       ]
      }
     ],
     "prompt_number": 76
    },
    {
     "cell_type": "code",
     "collapsed": false,
     "input": [
      "str(h[0].address)"
     ],
     "language": "python",
     "metadata": {},
     "outputs": [
      {
       "metadata": {},
       "output_type": "pyout",
       "prompt_number": 147,
       "text": [
        "'Way too close to the sand people'"
       ]
      }
     ],
     "prompt_number": 147
    },
    {
     "cell_type": "code",
     "collapsed": false,
     "input": [
      "home_owner = h[0].owner\n",
      "home_owner"
     ],
     "language": "python",
     "metadata": {},
     "outputs": [
      {
       "metadata": {},
       "output_type": "pyout",
       "prompt_number": 150,
       "text": [
        "<Owner: Owner object>"
       ]
      }
     ],
     "prompt_number": 150
    },
    {
     "cell_type": "code",
     "collapsed": false,
     "input": [
      "str(home_owner.name)"
     ],
     "language": "python",
     "metadata": {},
     "outputs": [
      {
       "metadata": {},
       "output_type": "pyout",
       "prompt_number": 148,
       "text": [
        "'Luke Skywalker'"
       ]
      }
     ],
     "prompt_number": 148
    },
    {
     "cell_type": "code",
     "collapsed": false,
     "input": [
      "str(h[0].owner.name)"
     ],
     "language": "python",
     "metadata": {},
     "outputs": [
      {
       "metadata": {},
       "output_type": "pyout",
       "prompt_number": 151,
       "text": [
        "'Luke Skywalker'"
       ]
      }
     ],
     "prompt_number": 151
    },
    {
     "cell_type": "code",
     "collapsed": false,
     "input": [
      "h[0].owner"
     ],
     "language": "python",
     "metadata": {},
     "outputs": [
      {
       "metadata": {},
       "output_type": "pyout",
       "prompt_number": 159,
       "text": [
        "u'Luke Skywalker'"
       ]
      }
     ],
     "prompt_number": 159
    },
    {
     "cell_type": "code",
     "collapsed": false,
     "input": [
      "Owner.objects.filter(name='Luke Skywalker')"
     ],
     "language": "python",
     "metadata": {},
     "outputs": [
      {
       "metadata": {},
       "output_type": "pyout",
       "prompt_number": 167,
       "text": [
        "[<Owner: Owner object>]"
       ]
      }
     ],
     "prompt_number": 167
    },
    {
     "cell_type": "code",
     "collapsed": false,
     "input": [
      "Owner(name='Mary')"
     ],
     "language": "python",
     "metadata": {},
     "outputs": [
      {
       "metadata": {},
       "output_type": "pyout",
       "prompt_number": 162,
       "text": [
        "<Owner: Owner object>"
       ]
      }
     ],
     "prompt_number": 162
    },
    {
     "cell_type": "code",
     "collapsed": false,
     "input": [
      "h = House.objects.filter(owner=Owner.objects.filter(name='Luke Skywalker'))"
     ],
     "language": "python",
     "metadata": {},
     "outputs": [],
     "prompt_number": 169
    },
    {
     "cell_type": "code",
     "collapsed": false,
     "input": [
      "h[0].address"
     ],
     "language": "python",
     "metadata": {},
     "outputs": [
      {
       "metadata": {},
       "output_type": "pyout",
       "prompt_number": 172,
       "text": [
        "u'Way too close to the sand people'"
       ]
      }
     ],
     "prompt_number": 172
    },
    {
     "cell_type": "code",
     "collapsed": false,
     "input": [
      "cd /home/agconti/my_dev/github/Atlatl_django/mysite/houses/management/commands"
     ],
     "language": "python",
     "metadata": {},
     "outputs": [
      {
       "output_type": "stream",
       "stream": "stdout",
       "text": [
        "/home/agconti/my_dev/github/Atlatl_django/mysite/houses/management/commands\n"
       ]
      }
     ],
     "prompt_number": 178
    },
    {
     "cell_type": "code",
     "collapsed": false,
     "input": [
      "%%writefile show_house.py\n",
      "from optparse import make_option\n",
      "from django.core.management.base import BaseCommand, CommandError\n",
      "from houses.models import House, Owner\n",
      "\n",
      "class Command(BaseCommand):\n",
      "    option_list = BaseCommand.option_list + (\n",
      "        make_option('--owner',\n",
      "            action='store',\n",
      "            type = 'string',\n",
      "            dest='owner',\n",
      "            default=False,\n",
      "            help='Specify Owner to show'),\n",
      "        )\n",
      "        \n",
      "    def handle(self, *args, **options):\n",
      "        '''\n",
      "        '''\n",
      "        if options['owner']:\n",
      "            try:\n",
      "                h = House.objects.filter(owner=Owner.objects.filter(name=options['owner']))\n",
      "                for i,val in enumerate(h):\n",
      "                    self.stdout.write('Address=[%s] Owner=[%s]' % (h[i].address, h[i].owner.name))\n",
      "                \n",
      "            except Owner.DoesNotExist:\n",
      "                self.stdout.write('Specified Owner=[%s] does not exist in the dataset'  % options['owner'])\n",
      "        else:\n",
      "            h = House.objects.all()\n",
      "            for i,val in enumerate(h):\n",
      "                self.stdout.write('Address=[%s] Owner=[%s]' % (h[i].address, h[i].owner.name))"
     ],
     "language": "python",
     "metadata": {},
     "outputs": [
      {
       "output_type": "stream",
       "stream": "stdout",
       "text": [
        "Overwriting show_house.py\n"
       ]
      }
     ],
     "prompt_number": 179
    },
    {
     "cell_type": "code",
     "collapsed": false,
     "input": [
      "cd ~/my_dev/github/Atlatl_django/mysite/"
     ],
     "language": "python",
     "metadata": {},
     "outputs": [
      {
       "output_type": "stream",
       "stream": "stdout",
       "text": [
        "/home/agconti/my_dev/github/Atlatl_django/mysite\n"
       ]
      }
     ],
     "prompt_number": 180
    },
    {
     "cell_type": "code",
     "collapsed": false,
     "input": [
      "!python manage.py show_house"
     ],
     "language": "python",
     "metadata": {},
     "outputs": [
      {
       "output_type": "stream",
       "stream": "stdout",
       "text": [
        "Address=[Way too close to the sand people] Owner=[Luke Skywalker]\r\n",
        "Address=[123 Main St.] Owner=[Mary]\r\n"
       ]
      }
     ],
     "prompt_number": 181
    },
    {
     "cell_type": "code",
     "collapsed": false,
     "input": [
      "!python manage.py show_house --owner='Mary'"
     ],
     "language": "python",
     "metadata": {},
     "outputs": [
      {
       "output_type": "stream",
       "stream": "stdout",
       "text": [
        "Address=[123 Main St.] Owner=[Mary]\r\n"
       ]
      }
     ],
     "prompt_number": 182
    },
    {
     "cell_type": "markdown",
     "metadata": {},
     "source": [
      "###Version Control "
     ]
    },
    {
     "cell_type": "code",
     "collapsed": false,
     "input": [
      "cd ~/my_dev/github/Atlatl_django/"
     ],
     "language": "python",
     "metadata": {},
     "outputs": [
      {
       "output_type": "stream",
       "stream": "stdout",
       "text": [
        "/home/agconti/my_dev/github/Atlatl_django\n"
       ]
      }
     ],
     "prompt_number": 67
    },
    {
     "cell_type": "code",
     "collapsed": false,
     "input": [
      "!git add ."
     ],
     "language": "python",
     "metadata": {},
     "outputs": [],
     "prompt_number": 68
    },
    {
     "cell_type": "code",
     "collapsed": false,
     "input": [
      "(number/0) # a break before commit"
     ],
     "language": "python",
     "metadata": {},
     "outputs": []
    },
    {
     "cell_type": "code",
     "collapsed": false,
     "input": [
      "!git commit -a -m \"Fixed error where Owner was not unique\""
     ],
     "language": "python",
     "metadata": {},
     "outputs": [
      {
       "output_type": "stream",
       "stream": "stdout",
       "text": [
        "[master d846ca8] Fixed error where Owner was not unique\r\n",
        " 12 files changed, 452 insertions(+), 192 deletions(-)\r\n",
        " rewrite mysite/houses/management/commands/add_owner.pyc (72%)\r\n",
        " rewrite mysite/houses/models.pyc (75%)\r\n"
       ]
      }
     ],
     "prompt_number": 69
    },
    {
     "cell_type": "code",
     "collapsed": false,
     "input": [],
     "language": "python",
     "metadata": {},
     "outputs": []
    }
   ],
   "metadata": {}
  }
 ]
}